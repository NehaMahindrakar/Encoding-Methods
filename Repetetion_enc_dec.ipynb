{
  "nbformat": 4,
  "nbformat_minor": 0,
  "metadata": {
    "colab": {
      "name": "Repetetion_enc_dec.ipynb",
      "provenance": [],
      "collapsed_sections": []
    },
    "kernelspec": {
      "name": "python3",
      "display_name": "Python 3"
    }
  },
  "cells": [
    {
      "cell_type": "code",
      "metadata": {
        "id": "Bdgsy_UDiZAf",
        "outputId": "83915927-9ed0-4651-d224-aa175d448c77",
        "colab": {
          "base_uri": "https://localhost:8080/"
        }
      },
      "source": [
        "code=input('Enter the code to be transmitted-')\n",
        "print('---Encoded word---')\n",
        "encoded=[]\n",
        "for i in code:\n",
        "  encoded.append(i*3)\n",
        "print(encoded)\n",
        "print('---Decoded word---')\n",
        "decoded=[]\n",
        "for i in encoded:\n",
        "  decoded.append(max(i))\n",
        "print(decoded)"
      ],
      "execution_count": null,
      "outputs": [
        {
          "output_type": "stream",
          "text": [
            "Enter the code to be transmitted-101\n",
            "---Encoded word---\n",
            "['111', '000', '111']\n",
            "---Decoded word---\n",
            "['1', '0', '1']\n"
          ],
          "name": "stdout"
        }
      ]
    }
  ]
}