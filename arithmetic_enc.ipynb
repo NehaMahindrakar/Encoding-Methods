{
  "nbformat": 4,
  "nbformat_minor": 0,
  "metadata": {
    "colab": {
      "name": "arithmetic_enc.ipynb",
      "provenance": []
    },
    "kernelspec": {
      "name": "python3",
      "display_name": "Python 3"
    }
  },
  "cells": [
    {
      "cell_type": "code",
      "metadata": {
        "id": "DVRG1TYe63Ow",
        "outputId": "87f29000-d4b2-41b3-93e0-5585ea6dbdfc",
        "colab": {
          "base_uri": "https://localhost:8080/"
        }
      },
      "source": [
        "import numpy as np\n",
        "\n",
        "def scale_interval_edges(orig_interval_edges, min_val, max_val):\n",
        "    new_edges = min_val + (max_val - min_val)*orig_interval_edges\n",
        "    return new_edges\n",
        "\n",
        "def symbol_to_index(symbol, alphabeth):\n",
        "    assert len(set(alphabeth)) == len(alphabeth), 'Redundant alphabeth'\n",
        "    assert symbol in alphabeth, 'Symbol {} not in alphabeth'.format(symbol)\n",
        "    return alphabeth.index(symbol) + 1 #\n",
        "\n",
        "def get_interval_from_symbol(current_symbol, alphabeth, current_min, current_max, orig_interval_edges):\n",
        "    curr_signal_ind = symbol_to_index(current_symbol, alphabeth)\n",
        "    curr_interval_edges = scale_interval_edges(orig_interval_edges, current_min, current_max)\n",
        "    new_min = curr_interval_edges[curr_signal_ind - 1]\n",
        "    new_max = curr_interval_edges[curr_signal_ind]\n",
        "    \n",
        "    return (new_min, new_max)\n",
        "\n",
        "def interval_edges(pmf):\n",
        "    return np.array([np.sum(pmf[:i]) for i in range(len(pmf) + 1)])\n",
        "\n",
        "def arithmetic_intervals(alphabeth, signal, pmf):\n",
        "    orig_interval_edges = interval_edges(pmf)\n",
        "    signal_list = list(signal)\n",
        "    curr_min, curr_max = get_interval_from_symbol(signal_list[0], alphabeth, 0.0, 1.0, orig_interval_edges)\n",
        "    intervals = [(curr_min, curr_max)]\n",
        "    \n",
        "    for i, symbol in enumerate(signal_list[1:]):\n",
        "        curr_min, curr_max = get_interval_from_symbol(symbol, alphabeth, curr_min, curr_max, orig_interval_edges)\n",
        "        intervals.append((curr_min, curr_max))\n",
        "    return intervals\n",
        "\n",
        "def shortest_binary(d_interval):\n",
        "    d_min, d_max = d_interval\n",
        "    assert d_min < d_max, 'Need strictly increasing interval'\n",
        "    assert d_min >= 0, 'Negative lower bound on interval'\n",
        "    assert d_max < 1, 'Upper interval bound greater or equal to 1'\n",
        "    \n",
        "   \n",
        "    c_min = 0.0\n",
        "    c_max = 1.0\n",
        "    \n",
        "    \n",
        "    k = 1\n",
        "    bin_seq = []\n",
        "    while True:\n",
        "        # Allways add 1 to bin_seq if possible\n",
        "        if c_min < d_min and c_min + 1/2**k < d_max:\n",
        "            c_min = c_min + 1/2**k\n",
        "            bin_seq.append(1)\n",
        "        else:\n",
        "            if c_max > d_max and c_max - 1/2**k > d_min:\n",
        "                c_max = c_max - 1/2**k\n",
        "                bin_seq.append(0)\n",
        "            else:\n",
        "                # No change is made to the current interval, we are finished\n",
        "                break\n",
        "        k = k + 1\n",
        "    return bin_seq            \n",
        "\n",
        "def arithmetic_encoding(alphabeth, pmf, signal):\n",
        "    intervals = arithmetic_intervals(alphabeth, signal, pmf)\n",
        "    bin_seq = shortest_binary(intervals[-1])\n",
        "    return bin_seq\n",
        "\n",
        "alphabeth = ['a', 'b', 'c']\n",
        "pmf = np.array([0.6, 0.2, 0.2]) \n",
        "signal = 'abccba'\n",
        "\n",
        "encoded_signal = arithmetic_encoding(alphabeth, pmf, signal)\n",
        "print('Signal:         {}'.format(signal))\n",
        "print('Encoded signal: {}'.format(''.join([str(s) for s in encoded_signal])))\n"
      ],
      "execution_count": null,
      "outputs": [
        {
          "output_type": "stream",
          "text": [
            "Signal:         abccba\n",
            "Encoded signal: 0111101010000\n"
          ],
          "name": "stdout"
        }
      ]
    }
  ]
}