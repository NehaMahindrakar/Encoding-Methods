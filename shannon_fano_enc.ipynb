{
  "nbformat": 4,
  "nbformat_minor": 0,
  "metadata": {
    "colab": {
      "name": "shannon_fano_enc.ipynb",
      "provenance": [],
      "collapsed_sections": []
    },
    "kernelspec": {
      "name": "python3",
      "display_name": "Python 3"
    }
  },
  "cells": [
    {
      "cell_type": "code",
      "metadata": {
        "id": "-WvwN5jh4_7-",
        "outputId": "084a3053-fb3b-4bdb-b722-90cf68f057ed",
        "colab": {
          "base_uri": "https://localhost:8080/"
        }
      },
      "source": [
        "from __future__ import print_function\n",
        "from PIL import Image\n",
        "from numpy.lib.scimath import log2\n",
        "from operator import itemgetter\n",
        "import math\n",
        "Shannon_Fano_dict={}\n",
        "\n",
        "\n",
        "\n",
        "def Entropy_value(frequency, length):\n",
        "    entropy = 0\n",
        "    for i in frequency:\n",
        "        entropy -= (frequency[i]/length* log2(frequency[i]/length))\n",
        "    return entropy\n",
        "\n",
        "def Shannon_Fano_coding(seq, code):\n",
        "    a = {}\n",
        "    b = {}\n",
        "    if len(seq) == 1:\n",
        "        Shannon_Fano_dict[seq.popitem()[0]] = code\n",
        "        return 0\n",
        "    for i in sorted(seq.items(), key=itemgetter(1), reverse=True):\n",
        "        if sum(a.values()) < sum(b.values()):\n",
        "            a[i[0]] = seq[i[0]]\n",
        "        else:\n",
        "            b[i[0]] = seq[i[0]]\n",
        "    Shannon_Fano_coding(a, code + \"0\")\n",
        "    Shannon_Fano_coding(b, code + \"1\")\n",
        "\n",
        "\n",
        "\n",
        "if __name__ == '__main__':\n",
        "    message = input('Enter the message')\n",
        "    print(message)\n",
        "    count = {}\n",
        "    for c in message:\n",
        "        if c not in count:\n",
        "            count[c] = 1\n",
        "        else:\n",
        "            count[c] += 1\n",
        "    #print(count)\n",
        "    for c in sorted(count):\n",
        "        print(c, \"=>\", count[c]/len(message))\n",
        "\n",
        "    #Alphabet\n",
        "    print(\"Count of different symblos(alphabet): \", len(count))\n",
        "\n",
        "    #Entropy\n",
        "    print(\"Entropy value: \", Entropy_value(count, len(message)))\n",
        "\n",
        "    \n",
        "    #Shannon-Fano Code\n",
        "    print(\"Shannon-Fano Coding: \")\n",
        "    Shannon_Fano_coding(count, \"\")\n",
        "    for i in sorted(Shannon_Fano_dict):\n",
        "        print(i, \"=\", Shannon_Fano_dict[i])\n",
        "    code_mes = \"\"\n",
        "    for i in message:\n",
        "        code_mes += Shannon_Fano_dict[i]\n",
        "    print(\"Message length in code: \", len(code_mes), \"\\nMessage code: \", code_mes)\n",
        "\n",
        "    "
      ],
      "execution_count": null,
      "outputs": [
        {
          "output_type": "stream",
          "text": [
            "Enter the messageabcde\n",
            "abcde\n",
            "a => 0.2\n",
            "b => 0.2\n",
            "c => 0.2\n",
            "d => 0.2\n",
            "e => 0.2\n",
            "Count of different symblos(alphabet):  5\n",
            "Entropy value:  2.321928094887362\n",
            "Shannon-Fano Coding: \n",
            "a = 111\n",
            "b = 01\n",
            "c = 10\n",
            "d = 00\n",
            "e = 110\n",
            "Message length in code:  12 \n",
            "Message code:  111011000110\n"
          ],
          "name": "stdout"
        }
      ]
    }
  ]
}