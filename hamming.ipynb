{
  "nbformat": 4,
  "nbformat_minor": 0,
  "metadata": {
    "colab": {
      "name": "hamming.ipynb",
      "provenance": [],
      "collapsed_sections": []
    },
    "kernelspec": {
      "name": "python3",
      "display_name": "Python 3"
    }
  },
  "cells": [
    {
      "cell_type": "code",
      "metadata": {
        "id": "yCBPITkVRoyM",
        "outputId": "a90b0bdf-49bb-4cd8-a47a-026aa7556a38",
        "colab": {
          "base_uri": "https://localhost:8080/"
        }
      },
      "source": [
        "def  hamming_encode(x3,x5,x6 ,x7):\n",
        "  x1= (x3+x5+x7) % 2\n",
        "  x2= (x3+x6+x7) % 2\n",
        "  x4= (x5+x6+x7) % 2\n",
        "  return (x1 ,x2,x3 ,x4,x5,x6 ,x7)\n",
        "def hamming_decode(y1,y2,y3,y4,y5,y6,y7):\n",
        "  b1=(y1+y3+y5+y7)%2\n",
        "  b2=(y2+y3+y6+y7)%2\n",
        "  b3=(y4+y5+y6+y7)%2\n",
        "  b=4*b3+2*b2+b1\n",
        "  if b==0 or b==1 or b==2 or b==4:\n",
        "    return (y3,y5,y6,y7)\n",
        "  else:\n",
        "    y=[y1,y2,y3,y4,y5,y6,y7]\n",
        "    y[b-1]=(y[b-1]+1)%2\n",
        "    return (y[2],y[4],y[5],y[6])\n",
        "\n",
        "y=hamming_encode(1,1,0,1)\n",
        "z=list(y);\n",
        "print(z)\n",
        "z[2]^=1       #flipping bits\n",
        "hamming_decode(*z)\n"
      ],
      "execution_count": null,
      "outputs": [
        {
          "output_type": "stream",
          "text": [
            "[1, 0, 1, 0, 1, 0, 1]\n"
          ],
          "name": "stdout"
        },
        {
          "output_type": "execute_result",
          "data": {
            "text/plain": [
              "(1, 1, 0, 1)"
            ]
          },
          "metadata": {
            "tags": []
          },
          "execution_count": 25
        }
      ]
    }
  ]
}